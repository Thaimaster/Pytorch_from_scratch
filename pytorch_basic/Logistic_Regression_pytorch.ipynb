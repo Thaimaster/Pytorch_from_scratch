{
  "nbformat": 4,
  "nbformat_minor": 0,
  "metadata": {
    "colab": {
      "name": "Logistic Regression_pytorch.ipynb",
      "provenance": []
    },
    "kernelspec": {
      "name": "python3",
      "display_name": "Python 3"
    },
    "language_info": {
      "name": "python"
    }
  },
  "cells": [
    {
      "cell_type": "markdown",
      "metadata": {
        "id": "AlgNpR9_ilav"
      },
      "source": [
        "## Read Data"
      ]
    },
    {
      "cell_type": "code",
      "metadata": {
        "colab": {
          "base_uri": "https://localhost:8080/"
        },
        "id": "9e2jQGuwie08",
        "outputId": "54c142b3-2fe6-4ac3-a3f5-10914bba80d6"
      },
      "source": [
        "!gdown --id 15OTTjXXZsj-wp-2aC91kRXVjF7i5r5lj"
      ],
      "execution_count": 2,
      "outputs": [
        {
          "output_type": "stream",
          "name": "stdout",
          "text": [
            "Downloading...\n",
            "From: https://drive.google.com/uc?id=15OTTjXXZsj-wp-2aC91kRXVjF7i5r5lj\n",
            "To: /content/iris_full.csv\n",
            "\r  0% 0.00/2.06k [00:00<?, ?B/s]\r100% 2.06k/2.06k [00:00<00:00, 868kB/s]\n"
          ]
        }
      ]
    },
    {
      "cell_type": "code",
      "metadata": {
        "id": "2ie9mqwciuN9"
      },
      "source": [
        "import torch\n",
        "import numpy as np\n",
        "import matplotlib.pyplot as plt\n",
        "#Read Data\n",
        "iris = np.genfromtxt('iris_full.csv', dtype=None, delimiter=',', skip_header=1) \n",
        "X = iris[:, :4]\n",
        "X = torch.tensor(X)\n",
        "y = iris[:, 4:]\n",
        "y = torch.tensor(y)\n",
        "m = X.shape[0]"
      ],
      "execution_count": 3,
      "outputs": []
    },
    {
      "cell_type": "code",
      "metadata": {
        "id": "UAfawP2Piuk2"
      },
      "source": [
        "class Logistic_Regression:\n",
        "    def __init__(self, X, y):\n",
        "        #intercept\n",
        "        intercept = torch.ones((X.shape[0], 1))\n",
        "        X = torch.cat([X, intercept], dim=1)\n",
        "\n",
        "        # shuffle\n",
        "        inds = torch.randperm(X.shape[0])\n",
        "        self.X = X[inds].float()\n",
        "        self.y = y[inds].float()\n",
        "\n",
        "        self.losses = []\n",
        "        self.accs   = []\n",
        "\n",
        "    def run_al(self, lr, num_iter, bz, theta):\n",
        "        for i in range(num_iter):\n",
        "\n",
        "            for i in range(0, m, bz):\n",
        "                xi = self.X[i:i+bz]\n",
        "                yi = self.y[i:i+bz]\n",
        "\n",
        "                # predict z\n",
        "                y_hat = predict(xi, theta)\n",
        "\n",
        "                # compute loss\n",
        "                loss = loss_function(y_hat, yi)\n",
        "\n",
        "                # compute mean of gradient\n",
        "                gradient = compute_gradient(xi, y_hat, yi)\n",
        "                theta -= lr*gradient    \n",
        "                #print('new theta: ', theta)\n",
        "\n",
        "                # for debug\n",
        "                if(i%1 == 0):\n",
        "                    # loss\n",
        "                    self.losses.append(loss)\n",
        "                    \n",
        "                    # accuracy for training\n",
        "                    preds = predict(xi, theta).round()\n",
        "                    acc = torch.where(preds == yi, 1., 0.).mean()\n",
        "                    self.accs.append(acc)              \n",
        "\n",
        "        # show figures\n",
        "        plt.plot(self.losses)\n",
        "        plt.show()\n"
      ],
      "execution_count": 4,
      "outputs": []
    },
    {
      "cell_type": "code",
      "metadata": {
        "id": "nhTt3OVxiunz"
      },
      "source": [
        "def sigmoid_function(z):\n",
        "    return 1 / (1 + torch.exp(-z))\n",
        "\n",
        "def loss_function(h, y):\n",
        "    return (-y*torch.log(h) - (1-y)*torch.log(1-h)).mean()\n",
        "\n",
        "def predict(X, theta):    \n",
        "    y_hat = sigmoid_function(torch.mm(X, theta))\n",
        "    return y_hat\n",
        "\n",
        "def compute_gradient(X, y_hat, y):\n",
        "    return torch.mm(X.T, (y_hat - y)) / y.shape[0]"
      ],
      "execution_count": 5,
      "outputs": []
    },
    {
      "cell_type": "code",
      "metadata": {
        "colab": {
          "base_uri": "https://localhost:8080/",
          "height": 265
        },
        "id": "wnpG0lTjiuql",
        "outputId": "a3cf45a6-0c6f-4a96-afc2-99267ad0d7b1"
      },
      "source": [
        "#init\n",
        "LR = Logistic_Regression(X,y)\n",
        "#hyper_parameter\n",
        "lr=0.1\n",
        "num_iter=100\n",
        "bz=32\n",
        "\n",
        "theta = torch.tensor([[0.1, 0.5, 0.1, 0.5, -0.1]]).float().T\n",
        "LR.run_al(lr, num_iter, bz, theta)"
      ],
      "execution_count": 6,
      "outputs": [
        {
          "output_type": "display_data",
          "data": {
            "image/png": "[encoded data removed]",
            "text/plain": [
              "<Figure size 432x288 with 1 Axes>"
            ]
          },
          "metadata": {
            "needs_background": "light"
          }
        }
      ]
    },
    {
      "cell_type": "code",
      "metadata": {
        "colab": {
          "base_uri": "https://localhost:8080/",
          "height": 265
        },
        "id": "g4YW2J08i0AL",
        "outputId": "fce4dacc-f355-4298-b72a-af3cd6a0c98a"
      },
      "source": [
        "plt.plot(LR.accs)\n",
        "plt.show()"
      ],
      "execution_count": 7,
      "outputs": [
        {
          "output_type": "display_data",
          "data": {
            "image/png": "[encoded data removed]",
            "text/plain": [
              "<Figure size 432x288 with 1 Axes>"
            ]
          },
          "metadata": {
            "needs_background": "light"
          }
        }
      ]
    },
    {
      "cell_type": "code",
      "metadata": {
        "id": "VZUVTGKmi1fv"
      },
      "source": [
        ""
      ],
      "execution_count": 7,
      "outputs": []
    }
  ]
}